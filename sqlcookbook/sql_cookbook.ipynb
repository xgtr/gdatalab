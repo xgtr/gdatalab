{
 "cells": [
  {
   "cell_type": "code",
   "execution_count": 2,
   "metadata": {
    "collapsed": false
   },
   "outputs": [],
   "source": [
    "import psycopg2"
   ]
  },
  {
   "cell_type": "code",
   "execution_count": 22,
   "metadata": {
    "collapsed": false
   },
   "outputs": [],
   "source": [
    "conn = psycopg2.connect(\"dbname='DataLab' user='postgres' host='localhost' password='3015'\")\n",
    "cur = conn.cursor()"
   ]
  },
  {
   "cell_type": "code",
   "execution_count": 11,
   "metadata": {
    "collapsed": true
   },
   "outputs": [],
   "source": [
    "# cur.close()\n",
    "# conn.close()"
   ]
  },
  {
   "cell_type": "code",
   "execution_count": 26,
   "metadata": {
    "collapsed": false
   },
   "outputs": [
    {
     "name": "stdout",
     "output_type": "stream",
     "text": [
      "(7369, 'SMITH', 'CLERK', 7902, datetime.date(1980, 12, 17), 800, None, 20)\n",
      "(7499, 'ALLEN', 'SALESMAN', 7698, datetime.date(1981, 2, 20), 1600, 300, 30)\n",
      "(7521, 'WARD', 'SALESMAN', 7698, datetime.date(1981, 2, 22), 1250, 500, 30)\n",
      "(7566, 'JONES', 'MANAGER', 7839, datetime.date(1981, 4, 2), 2975, None, 20)\n",
      "(7654, 'MARTIN', 'SALESMAN', 7698, datetime.date(1981, 9, 28), 1250, 1400, 30)\n",
      "(7698, 'BLAKE', 'MANAGER', 7839, datetime.date(1981, 5, 1), 2850, None, 30)\n",
      "(7782, 'CLARK', 'MANAGER', 7839, datetime.date(1981, 6, 9), 2450, None, 10)\n",
      "(7788, 'SCOTT', 'ANALYST', 7566, datetime.date(1982, 12, 9), 3000, None, 20)\n",
      "(7839, 'KING', 'PRESIDENT', None, datetime.date(1981, 11, 17), 5000, None, 10)\n",
      "(7844, 'TURNER', 'SALESMAN', 7698, datetime.date(1981, 9, 8), 1500, 0, 30)\n",
      "(7876, 'ADAMS', 'CLERK', 7788, datetime.date(1983, 1, 12), 1100, None, 20)\n",
      "(7900, 'JAMES', 'CLERK', 7698, datetime.date(1981, 12, 3), 950, None, 30)\n",
      "(7902, 'FORD', 'ANALYST', 7566, datetime.date(1981, 12, 3), 3000, None, 20)\n",
      "(7934, 'MILLER', 'CLERK', 7782, datetime.date(1982, 1, 23), 1300, None, 10)\n"
     ]
    }
   ],
   "source": [
    "query = \"\"\"SELECT * FROM emp\"\"\"\n",
    "cur.execute(query)\n",
    "for row in cur.fetchall():\n",
    "    print(row)"
   ]
  },
  {
   "cell_type": "code",
   "execution_count": 30,
   "metadata": {
    "collapsed": false
   },
   "outputs": [
    {
     "data": {
      "text/plain": [
       "[(10, 'CLARK'),\n",
       " (None, 'KING'),\n",
       " (None, 'MILLER'),\n",
       " (20, 'ADAMS'),\n",
       " (None, 'FORD'),\n",
       " (None, 'JONES'),\n",
       " (None, 'SCOTT'),\n",
       " (None, 'SMITH'),\n",
       " (30, 'ALLEN'),\n",
       " (None, 'BLAKE'),\n",
       " (None, 'JAMES'),\n",
       " (None, 'MARTIN'),\n",
       " (None, 'TURNER'),\n",
       " (None, 'WARD')]"
      ]
     },
     "execution_count": 30,
     "metadata": {},
     "output_type": "execute_result"
    }
   ],
   "source": [
    "query = \"\"\"\n",
    "SELECT (CASE WHEN rnk = {} THEN deptno END) AS deptno, ename\n",
    "FROM (SELECT deptno, ename,\n",
    "             row_number() OVER (PARTITION BY deptno ORDER BY ename) AS rnk\n",
    "      FROM emp) t\n",
    "\"\"\".format(1)\n",
    "cur.execute(query)\n",
    "cur.fetchall()"
   ]
  },
  {
   "cell_type": "code",
   "execution_count": null,
   "metadata": {
    "collapsed": true
   },
   "outputs": [],
   "source": []
  }
 ],
 "metadata": {
  "anaconda-cloud": {},
  "kernelspec": {
   "display_name": "Python [conda env:py35]",
   "language": "python",
   "name": "conda-env-py35-py"
  },
  "language_info": {
   "codemirror_mode": {
    "name": "ipython",
    "version": 3
   },
   "file_extension": ".py",
   "mimetype": "text/x-python",
   "name": "python",
   "nbconvert_exporter": "python",
   "pygments_lexer": "ipython3",
   "version": "3.5.2"
  }
 },
 "nbformat": 4,
 "nbformat_minor": 0
}
