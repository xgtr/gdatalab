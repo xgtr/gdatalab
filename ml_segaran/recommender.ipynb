{
 "cells": [
  {
   "cell_type": "code",
   "execution_count": 4,
   "metadata": {
    "collapsed": false
   },
   "outputs": [],
   "source": [
    "# A dictionary of movie critics and their ratings of a small\n",
    "# set of movies\n",
    "critics={'Lisa Rose': \n",
    "           {'Lady in the Water': 2.5, 'Snakes on a Plane': 3.5,\n",
    "            'Just My Luck': 3.0, 'Superman Returns': 3.5, 'You, Me and Dupree': 2.5, \n",
    "            'The Night Listener': 3.0},\n",
    "        'Gene Seymour': \n",
    "            {'Lady in the Water': 3.0, 'Snakes on a Plane': 3.5, \n",
    "            'Just My Luck': 1.5, 'Superman Returns': 5.0, 'The Night Listener': 3.0, \n",
    "            'You, Me and Dupree': 3.5}, \n",
    "        'Michael Phillips': \n",
    "             {'Lady in the Water': 2.5, 'Snakes on a Plane': 3.0,\n",
    "             'Superman Returns': 3.5, 'The Night Listener': 4.0},\n",
    "        'Claudia Puig': \n",
    "             {'Snakes on a Plane': 3.5, 'Just My Luck': 3.0,\n",
    "             'The Night Listener': 4.5, 'Superman Returns': 4.0, \n",
    "             'You, Me and Dupree': 2.5},\n",
    "        'Mick LaSalle': \n",
    "             {'Lady in the Water': 3.0, 'Snakes on a Plane': 4.0, \n",
    "             'Just My Luck': 2.0, 'Superman Returns': 3.0, 'The Night Listener': 3.0,\n",
    "             'You, Me and Dupree': 2.0}, \n",
    "        'Jack Matthews': \n",
    "             {'Lady in the Water': 3.0, 'Snakes on a Plane': 4.0,\n",
    "             'The Night Listener': 3.0, 'Superman Returns': 5.0, 'You, Me and Dupree': 3.5},\n",
    "        'Toby': \n",
    "             {'Snakes on a Plane': 4.5, 'You, Me and Dupree': 1.0, 'Superman Returns': 4.0}}\n",
    "\n",
    "\n",
    "from math import sqrt\n",
    "\n",
    "# Returns a distance-based similarity score for person1 and person2\n",
    "def sim_distance(prefs, person1, person2):\n",
    "    # Get the list of shared_items\n",
    "    si={}\n",
    "    for item in prefs[person1]: \n",
    "        if item in prefs[person2]: \n",
    "            si[item] = 1\n",
    "  \n",
    "    # if they have no ratings in common, return 0\n",
    "    if len(si) == 0: \n",
    "        return 0\n",
    "  \n",
    "    # Add up the squares of all the differences\n",
    "    sum_of_squares = sum([pow(prefs[person1][item] - prefs[person2][item], 2) \n",
    "                        for item in prefs[person1] if item in prefs[person2]])\n",
    "  \n",
    "    return 1 / (1 + sum_of_squares)"
   ]
  },
  {
   "cell_type": "code",
   "execution_count": 26,
   "metadata": {
    "collapsed": false
   },
   "outputs": [
    {
     "name": "stdout",
     "output_type": "stream",
     "text": [
      "Toby              and Gene Seymour:   0.108\n",
      "Jack Matthews     and Gene Seymour:   0.800\n",
      "Gene Seymour      and Gene Seymour:   1.000\n",
      "Lisa Rose         and Gene Seymour:   0.148\n",
      "Mick LaSalle      and Gene Seymour:   0.129\n",
      "Michael Phillips  and Gene Seymour:   0.211\n",
      "Claudia Puig      and Gene Seymour:   0.133\n"
     ]
    }
   ],
   "source": [
    "person = 'Gene Seymour'\n",
    "for k in critics:\n",
    "    print('{0:17s} and {1:10s}: {2:7.3f}'.format(k, person, sim_distance(critics, k, person)))"
   ]
  },
  {
   "cell_type": "code",
   "execution_count": 44,
   "metadata": {
    "collapsed": false
   },
   "outputs": [
    {
     "data": {
      "text/plain": [
       "[(('Jack Matthews', 'Gene Seymour'), 0.8),\n",
       " (('Michael Phillips', 'Claudia Puig'), 0.5714285714285714),\n",
       " (('Lisa Rose', 'Michael Phillips'), 0.4444444444444444),\n",
       " (('Lisa Rose', 'Mick LaSalle'), 0.3333333333333333),\n",
       " (('Toby', 'Mick LaSalle'), 0.3076923076923077),\n",
       " (('Toby', 'Michael Phillips'), 0.2857142857142857),\n",
       " (('Lisa Rose', 'Claudia Puig'), 0.2857142857142857),\n",
       " (('Mick LaSalle', 'Michael Phillips'), 0.2857142857142857),\n",
       " (('Toby', 'Claudia Puig'), 0.23529411764705882),\n",
       " (('Toby', 'Lisa Rose'), 0.2222222222222222),\n",
       " (('Jack Matthews', 'Lisa Rose'), 0.21052631578947367),\n",
       " (('Gene Seymour', 'Michael Phillips'), 0.21052631578947367),\n",
       " (('Jack Matthews', 'Michael Phillips'), 0.18181818181818182),\n",
       " (('Jack Matthews', 'Claudia Puig'), 0.18181818181818182),\n",
       " (('Mick LaSalle', 'Claudia Puig'), 0.17391304347826086),\n",
       " (('Gene Seymour', 'Lisa Rose'), 0.14814814814814814),\n",
       " (('Jack Matthews', 'Mick LaSalle'), 0.13793103448275862),\n",
       " (('Gene Seymour', 'Claudia Puig'), 0.13333333333333333),\n",
       " (('Gene Seymour', 'Mick LaSalle'), 0.12903225806451613),\n",
       " (('Toby', 'Jack Matthews'), 0.11764705882352941),\n",
       " (('Toby', 'Gene Seymour'), 0.10810810810810811)]"
      ]
     },
     "execution_count": 44,
     "metadata": {},
     "output_type": "execute_result"
    }
   ],
   "source": [
    "from itertools import combinations\n",
    "sim = [(pair, sim_distance(critics, *pair)) for pair in combinations(critics, 2)]\n",
    "sorted(sim, key=lambda x: x[1], reverse=True)"
   ]
  },
  {
   "cell_type": "code",
   "execution_count": null,
   "metadata": {
    "collapsed": true
   },
   "outputs": [],
   "source": []
  }
 ],
 "metadata": {
  "anaconda-cloud": {},
  "kernelspec": {
   "display_name": "Python [default]",
   "language": "python",
   "name": "python3"
  },
  "language_info": {
   "codemirror_mode": {
    "name": "ipython",
    "version": 3
   },
   "file_extension": ".py",
   "mimetype": "text/x-python",
   "name": "python",
   "nbconvert_exporter": "python",
   "pygments_lexer": "ipython3",
   "version": "3.5.2"
  }
 },
 "nbformat": 4,
 "nbformat_minor": 1
}
