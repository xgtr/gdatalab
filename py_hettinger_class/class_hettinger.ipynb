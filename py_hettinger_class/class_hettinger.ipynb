{
 "cells": [
  {
   "cell_type": "code",
   "execution_count": 1,
   "metadata": {
    "collapsed": false
   },
   "outputs": [
    {
     "data": {
      "image/jpeg": "[encoded data removed]",
      "text/html": [
       "\n",
       "        <iframe\n",
       "            width=\"600\"\n",
       "            height=\"500\"\n",
       "            src=\"https://www.youtube.com/embed/HTLu2DFOdTg\"\n",
       "            frameborder=\"0\"\n",
       "            allowfullscreen\n",
       "        ></iframe>\n",
       "        "
      ],
      "text/plain": [
       "<IPython.lib.display.YouTubeVideo at 0x1d8f9887710>"
      ]
     },
     "execution_count": 1,
     "metadata": {},
     "output_type": "execute_result"
    }
   ],
   "source": [
    "from IPython.display import YouTubeVideo\n",
    "YouTubeVideo('HTLu2DFOdTg', width=600, height=500)"
   ]
  },
  {
   "cell_type": "markdown",
   "metadata": {},
   "source": [
    "### Version 0.1"
   ]
  },
  {
   "cell_type": "code",
   "execution_count": 2,
   "metadata": {
    "collapsed": true
   },
   "outputs": [],
   "source": [
    "import math\n",
    "\n",
    "class Circle:\n",
    "    \"\"\"An advanced circle analytic toolkit\"\"\"\n",
    "    \n",
    "    version = '0.1'  # class variable\n",
    "    \n",
    "    def __init__(self, radius):\n",
    "        \"\"\"init isn't a constructor. \n",
    "        Its job is to initialize the instance variables.\n",
    "        \n",
    "        self is the instance.\n",
    "        \"\"\"\n",
    "        self.radius = radius   # instance variable\n",
    "        \n",
    "    def area(self):\n",
    "        return math.pi * self.radius ** 2.0"
   ]
  },
  {
   "cell_type": "code",
   "execution_count": 3,
   "metadata": {
    "collapsed": false
   },
   "outputs": [
    {
     "data": {
      "text/plain": [
       "'0.1'"
      ]
     },
     "execution_count": 3,
     "metadata": {},
     "output_type": "execute_result"
    }
   ],
   "source": [
    "Circle.version"
   ]
  },
  {
   "cell_type": "code",
   "execution_count": 8,
   "metadata": {
    "collapsed": false
   },
   "outputs": [
    {
     "data": {
      "text/plain": [
       "(3.141592653589793, 1.0)"
      ]
     },
     "execution_count": 8,
     "metadata": {},
     "output_type": "execute_result"
    }
   ],
   "source": [
    "c = Circle(1.0)\n",
    "c.area(), c.radius"
   ]
  },
  {
   "cell_type": "code",
   "execution_count": 7,
   "metadata": {
    "collapsed": false
   },
   "outputs": [
    {
     "data": {
      "text/plain": [
       "'0.1'"
      ]
     },
     "execution_count": 7,
     "metadata": {},
     "output_type": "execute_result"
    }
   ],
   "source": [
    "c.version"
   ]
  },
  {
   "cell_type": "code",
   "execution_count": 13,
   "metadata": {
    "collapsed": false
   },
   "outputs": [
    {
     "data": {
      "text/plain": [
       "0.9074109732305086"
      ]
     },
     "execution_count": 13,
     "metadata": {},
     "output_type": "execute_result"
    }
   ],
   "source": [
    "from random import random, seed\n",
    "\n",
    "seed(1)\n",
    "n = 10\n",
    "circles = [Circle(random()) for i in range(n)]\n",
    "avg = sum([c.area() for c in circles]) / n\n",
    "avg"
   ]
  },
  {
   "cell_type": "markdown",
   "metadata": {},
   "source": [
    "### Version 0.2"
   ]
  },
  {
   "cell_type": "code",
   "execution_count": 14,
   "metadata": {
    "collapsed": true
   },
   "outputs": [],
   "source": [
    "import math\n",
    "\n",
    "class Circle:\n",
    "    \"\"\"An advanced circle analytic toolkit.\n",
    "    Add perimeter method.\n",
    "    \"\"\"\n",
    "    \n",
    "    version = '0.2'  # class variable\n",
    "    \n",
    "    def __init__(self, radius):\n",
    "        \"\"\"init isn't a constructor. \n",
    "        Its job is to initialize the instance variables.\n",
    "        \n",
    "        self is the instance.\n",
    "        \"\"\"\n",
    "        self.radius = radius   # instance variable\n",
    "        \n",
    "    def area(self):\n",
    "        return math.pi * self.radius ** 2.0\n",
    "    \n",
    "    def perimeter(self):\n",
    "        return 2 * math.pi * self.radius"
   ]
  },
  {
   "cell_type": "code",
   "execution_count": 16,
   "metadata": {
    "collapsed": false
   },
   "outputs": [
    {
     "data": {
      "text/plain": [
       "('0.2', 1, 3.141592653589793, 6.283185307179586)"
      ]
     },
     "execution_count": 16,
     "metadata": {},
     "output_type": "execute_result"
    }
   ],
   "source": [
    "c2 = Circle(1)\n",
    "c2.version, c2.radius, c2.area(), c2.perimeter()"
   ]
  },
  {
   "cell_type": "code",
   "execution_count": 23,
   "metadata": {
    "collapsed": false
   },
   "outputs": [
    {
     "data": {
      "text/plain": [
       "10.0"
      ]
     },
     "execution_count": 23,
     "metadata": {},
     "output_type": "execute_result"
    }
   ],
   "source": [
    "c2.radius *= 10\n",
    "c2.radius"
   ]
  },
  {
   "cell_type": "code",
   "execution_count": 24,
   "metadata": {
    "collapsed": false
   },
   "outputs": [
    {
     "data": {
      "text/plain": [
       "('0.2', 10.0, 314.1592653589793, 62.83185307179586)"
      ]
     },
     "execution_count": 24,
     "metadata": {},
     "output_type": "execute_result"
    }
   ],
   "source": [
    "c2.version, c2.radius, c2.area(), c2.perimeter()"
   ]
  },
  {
   "cell_type": "markdown",
   "metadata": {},
   "source": [
    "### Subclass Tire"
   ]
  },
  {
   "cell_type": "code",
   "execution_count": 29,
   "metadata": {
    "collapsed": false
   },
   "outputs": [],
   "source": [
    "import math\n",
    "\n",
    "class Tire(Circle):\n",
    "    \"\"\"Tires are Circles with a corrected perimeter\"\"\"\n",
    "    \n",
    "    def perimeter(self):\n",
    "        \"\"\"Circumference corrected for the rubber\"\"\"\n",
    "        return Circle.perimeter(self) * 10.0"
   ]
  },
  {
   "cell_type": "code",
   "execution_count": 30,
   "metadata": {
    "collapsed": false
   },
   "outputs": [
    {
     "data": {
      "text/plain": [
       "('0.2', 1, 3.141592653589793, 62.83185307179586)"
      ]
     },
     "execution_count": 30,
     "metadata": {},
     "output_type": "execute_result"
    }
   ],
   "source": [
    "t = Tire(1)\n",
    "t.version, t.radius, t.area(), t.perimeter()"
   ]
  },
  {
   "cell_type": "markdown",
   "metadata": {},
   "source": [
    "### Class methods are to create alternative constructors\n",
    "\n",
    "Background:\n",
    "\n",
    "```python\n",
    "bbd = 25.1\n",
    "c = Circle(bbd_to_radius(bbd))\n",
    "```\n",
    "\n",
    "It's awkward, so we add a method in class Circle.\n",
    "\n",
    "Key Ideas:\n",
    "\n",
    "* **class method** is a method of the class, no need to create an instance to use the class method.\n",
    "* **class variable** is a variable of the class, no need to create an instance to use the class variable."
   ]
  },
  {
   "cell_type": "code",
   "execution_count": 53,
   "metadata": {
    "collapsed": true
   },
   "outputs": [],
   "source": [
    "class Circle:\n",
    "    \"\"\"\"\"\"\n",
    "    \n",
    "    version = '0.4'   # class variable\n",
    "    \n",
    "    def __init__(self, radius):\n",
    "        self.radius = radius\n",
    "    \n",
    "    def area(self):\n",
    "        return math.pi * self.radius ** 2\n",
    "    \n",
    "    def perimeter(self):\n",
    "        return 2 * math.pi * self.radius\n",
    "    \n",
    "    @classmethod   \n",
    "    # you have to add @classmethod to make a method to be a class method, which is like class variable\n",
    "    def alternative_constructor(cls, val):\n",
    "        \"\"\"Construct a Circle with 100 times val\"\"\"\n",
    "        radius = val * -1.0\n",
    "        return Circle(radius)"
   ]
  },
  {
   "cell_type": "code",
   "execution_count": 54,
   "metadata": {
    "collapsed": false
   },
   "outputs": [
    {
     "data": {
      "text/plain": [
       "<__main__.Circle at 0x1d8f9a4eeb8>"
      ]
     },
     "execution_count": 54,
     "metadata": {},
     "output_type": "execute_result"
    }
   ],
   "source": [
    "# classs method\n",
    "Circle.alternative_constructor(1.0)"
   ]
  },
  {
   "cell_type": "code",
   "execution_count": 55,
   "metadata": {
    "collapsed": false
   },
   "outputs": [
    {
     "data": {
      "text/plain": [
       "'0.4'"
      ]
     },
     "execution_count": 55,
     "metadata": {},
     "output_type": "execute_result"
    }
   ],
   "source": [
    "# class variable\n",
    "Circle.version"
   ]
  },
  {
   "cell_type": "markdown",
   "metadata": {},
   "source": [
    "Can subclass use the classmethod?"
   ]
  },
  {
   "cell_type": "code",
   "execution_count": 56,
   "metadata": {
    "collapsed": true
   },
   "outputs": [],
   "source": [
    "class Tire(Circle):\n",
    "    \n",
    "    def perimeter(self):\n",
    "        return Circle.perimeter(self) * 10.0 "
   ]
  },
  {
   "cell_type": "code",
   "execution_count": 57,
   "metadata": {
    "collapsed": false
   },
   "outputs": [
    {
     "data": {
      "text/plain": [
       "<__main__.Circle at 0x1d8f9a5ee10>"
      ]
     },
     "execution_count": 57,
     "metadata": {},
     "output_type": "execute_result"
    }
   ],
   "source": [
    "Tire.alternative_constructor(1.0)"
   ]
  },
  {
   "cell_type": "markdown",
   "metadata": {},
   "source": [
    "The problem is that it returns a class Circle, not Tire."
   ]
  },
  {
   "cell_type": "code",
   "execution_count": 58,
   "metadata": {
    "collapsed": false
   },
   "outputs": [
    {
     "data": {
      "text/plain": [
       "<__main__.Circle at 0x1d8f9a5ec50>"
      ]
     },
     "execution_count": 58,
     "metadata": {},
     "output_type": "execute_result"
    }
   ],
   "source": [
    "t = Tire.alternative_constructor(1.0)\n",
    "t"
   ]
  },
  {
   "cell_type": "code",
   "execution_count": 59,
   "metadata": {
    "collapsed": false
   },
   "outputs": [
    {
     "data": {
      "text/plain": [
       "-6.283185307179586"
      ]
     },
     "execution_count": 59,
     "metadata": {},
     "output_type": "execute_result"
    }
   ],
   "source": [
    "t.perimeter()"
   ]
  },
  {
   "cell_type": "markdown",
   "metadata": {},
   "source": [
    "The instance `t` is still using Circle.perimeter(), not Tire.perimeter().\n",
    "\n",
    "Let's modify the class method shown as belows."
   ]
  },
  {
   "cell_type": "code",
   "execution_count": 60,
   "metadata": {
    "collapsed": true
   },
   "outputs": [],
   "source": [
    "class Circle:\n",
    "    \"\"\"\"\"\"\n",
    "    \n",
    "    version = '0.4'   # class variable\n",
    "    \n",
    "    def __init__(self, radius):\n",
    "        self.radius = radius\n",
    "    \n",
    "    def area(self):\n",
    "        return math.pi * self.radius ** 2\n",
    "    \n",
    "    def perimeter(self):\n",
    "        return 2 * math.pi * self.radius\n",
    "    \n",
    "    @classmethod   \n",
    "    # you have to add @classmethod to make a method to be a class method, which is like class variable\n",
    "    def alternative_constructor(cls, val):\n",
    "        \"\"\"Construct a Circle with 100 times val\"\"\"\n",
    "        radius = val * -1.0\n",
    "        return cls(radius)   # change Circel to cls"
   ]
  },
  {
   "cell_type": "code",
   "execution_count": 61,
   "metadata": {
    "collapsed": true
   },
   "outputs": [],
   "source": [
    "class Tire(Circle):\n",
    "    \n",
    "    def perimeter(self):\n",
    "        return Circle.perimeter(self) * 10.0 "
   ]
  },
  {
   "cell_type": "code",
   "execution_count": 62,
   "metadata": {
    "collapsed": false
   },
   "outputs": [
    {
     "data": {
      "text/plain": [
       "<__main__.Tire at 0x1d8f9a80128>"
      ]
     },
     "execution_count": 62,
     "metadata": {},
     "output_type": "execute_result"
    }
   ],
   "source": [
    "t = Tire.alternative_constructor(1.0)\n",
    "t"
   ]
  },
  {
   "cell_type": "markdown",
   "metadata": {},
   "source": [
    "Now `t` is an instance of class Tire, which is what we want."
   ]
  },
  {
   "cell_type": "code",
   "execution_count": 63,
   "metadata": {
    "collapsed": false
   },
   "outputs": [
    {
     "data": {
      "text/plain": [
       "-62.83185307179586"
      ]
     },
     "execution_count": 63,
     "metadata": {},
     "output_type": "execute_result"
    }
   ],
   "source": [
    "t.perimeter()"
   ]
  },
  {
   "cell_type": "markdown",
   "metadata": {},
   "source": [
    "And the calucalution is also from Tire."
   ]
  },
  {
   "cell_type": "markdown",
   "metadata": {},
   "source": [
    "### Why using static methods?  Know its purpose.\n",
    "\n",
    "Static methods attach functions to classes. You don't have to create an instance just to call a function. Static methods put functions in the right context, which is the class.\n",
    "\n",
    "Nice,\tclean call.\t\t\t\n",
    "No\tinstance is\trequired.\t\t\t\n",
    "The\tcorrect\tcontext\tis\tpresent.\t\n",
    "The\tmethod is findable.\t"
   ]
  },
  {
   "cell_type": "code",
   "execution_count": 66,
   "metadata": {
    "collapsed": true
   },
   "outputs": [],
   "source": [
    "class Circle:\n",
    "    \"\"\"\"\"\"\n",
    "    \n",
    "    version = '0.4'   # class variable\n",
    "    \n",
    "    def __init__(self, radius):\n",
    "        self.radius = radius\n",
    "    \n",
    "    def area(self):\n",
    "        return math.pi * self.radius ** 2\n",
    "    \n",
    "    def perimeter(self):\n",
    "        return 2 * math.pi * self.radius\n",
    "    \n",
    "    @classmethod   \n",
    "    # you have to add @classmethod to make a method to be a class method, which is like class variable\n",
    "    def alternative_constructor(cls, val):\n",
    "        \"\"\"Construct a Circle with 100 times val\"\"\"\n",
    "        radius = val * -1.0\n",
    "        return cls(radius)   # change Circel to cls\n",
    "    \n",
    "    @staticmethod\n",
    "    def static_func():\n",
    "        return 1 + 1"
   ]
  },
  {
   "cell_type": "code",
   "execution_count": 68,
   "metadata": {
    "collapsed": false
   },
   "outputs": [
    {
     "data": {
      "text/plain": [
       "2"
      ]
     },
     "execution_count": 68,
     "metadata": {},
     "output_type": "execute_result"
    }
   ],
   "source": [
    "Circle.static_func()"
   ]
  },
  {
   "cell_type": "markdown",
   "metadata": {},
   "source": [
    "### setter, getter"
   ]
  },
  {
   "cell_type": "code",
   "execution_count": 92,
   "metadata": {
    "collapsed": false
   },
   "outputs": [],
   "source": [
    "class Circle:\n",
    "    \"\"\"\"\"\"\n",
    "    \n",
    "    version = '0.6'   # class variable\n",
    "    \n",
    "    def __init__(self):\n",
    "        # self.radius = radius\n",
    "        pass\n",
    "    \n",
    "    def area(self):\n",
    "        return math.pi * self.radius ** 2\n",
    "    \n",
    "    def perimeter(self):\n",
    "        return 2 * math.pi * self.radius\n",
    "    \n",
    "    @classmethod   \n",
    "    # you have to add @classmethod to make a method to be a class method, which is like class variable\n",
    "    def alternative_constructor(cls, val):\n",
    "        \"\"\"Construct a Circle with 100 times val\"\"\"\n",
    "        radius = val * -1.0\n",
    "        return cls(radius)   # change Circel to cls\n",
    "    \n",
    "    @staticmethod\n",
    "    def static_func():\n",
    "        return 1 + 1\n",
    "    \n",
    "    @property\n",
    "    # convert dotted access to method calls\n",
    "    def radius(self): \n",
    "        return self.diameter / 2.0\n",
    "    \n",
    "    @radius.setter\n",
    "    def radius(self, radius):\n",
    "        self.diameter = radius * 2.0"
   ]
  },
  {
   "cell_type": "code",
   "execution_count": 93,
   "metadata": {
    "collapsed": false
   },
   "outputs": [],
   "source": [
    "c6 = Circle()"
   ]
  },
  {
   "cell_type": "code",
   "execution_count": 94,
   "metadata": {
    "collapsed": false
   },
   "outputs": [],
   "source": [
    "c6.radius = 1.0"
   ]
  },
  {
   "cell_type": "code",
   "execution_count": 95,
   "metadata": {
    "collapsed": false
   },
   "outputs": [
    {
     "data": {
      "text/plain": [
       "2.0"
      ]
     },
     "execution_count": 95,
     "metadata": {},
     "output_type": "execute_result"
    }
   ],
   "source": [
    "c6.diameter"
   ]
  },
  {
   "cell_type": "code",
   "execution_count": 96,
   "metadata": {
    "collapsed": false
   },
   "outputs": [
    {
     "data": {
      "text/plain": [
       "1.0"
      ]
     },
     "execution_count": 96,
     "metadata": {},
     "output_type": "execute_result"
    }
   ],
   "source": [
    "c6.radius"
   ]
  },
  {
   "cell_type": "code",
   "execution_count": 97,
   "metadata": {
    "collapsed": false
   },
   "outputs": [
    {
     "data": {
      "text/plain": [
       "{'diameter': 2.0}"
      ]
     },
     "execution_count": 97,
     "metadata": {},
     "output_type": "execute_result"
    }
   ],
   "source": [
    "c6.__dict__"
   ]
  },
  {
   "cell_type": "markdown",
   "metadata": {},
   "source": [
    "## `__slot__`\n",
    "\n",
    "Flyweight design pattern suppresses the instance dictionary  \n",
    "[`__slots__`](https://docs.python.org/3/reference/datamodel.html#slots)\n",
    "\n",
    "\n",
    "By default, instances of classes have **a dictionary for attribute storage**. The default can be overridden by defining `__slots__` in a class definition. The `__slots__` declaration takes a sequence of instance variables and reserves just enough space in each instance to hold a value for each variable. Space is saved **because `__dict__` is not created for each instance**.\n"
   ]
  },
  {
   "cell_type": "code",
   "execution_count": 98,
   "metadata": {
    "collapsed": false
   },
   "outputs": [],
   "source": [
    "class Circle:\n",
    "    \"\"\"\"\"\"\n",
    "    \n",
    "    version = '0.7'   # class variable\n",
    "    \n",
    "    __slots__ = ['diameter']\n",
    "    \n",
    "    def __init__(self):\n",
    "        # self.radius = radius\n",
    "        pass\n",
    "    \n",
    "    def area(self):\n",
    "        return math.pi * self.radius ** 2\n",
    "    \n",
    "    def perimeter(self):\n",
    "        return 2 * math.pi * self.radius\n",
    "    \n",
    "    @classmethod   \n",
    "    # you have to add @classmethod to make a method to be a class method, which is like class variable\n",
    "    def alternative_constructor(cls, val):\n",
    "        \"\"\"Construct a Circle with 100 times val\"\"\"\n",
    "        radius = val * -1.0\n",
    "        return cls(radius)   # change Circel to cls\n",
    "    \n",
    "    @staticmethod\n",
    "    def static_func():\n",
    "        return 1 + 1\n",
    "    \n",
    "    @property\n",
    "    # convert dotted access to method calls\n",
    "    def radius(self): \n",
    "        return self.diameter / 2.0\n",
    "    \n",
    "    @radius.setter\n",
    "    def radius(self, radius):\n",
    "        self.diameter = radius * 2.0"
   ]
  },
  {
   "cell_type": "code",
   "execution_count": 99,
   "metadata": {
    "collapsed": true
   },
   "outputs": [],
   "source": [
    "c7 = Circle()"
   ]
  },
  {
   "cell_type": "code",
   "execution_count": 100,
   "metadata": {
    "collapsed": false
   },
   "outputs": [],
   "source": [
    "c7.radius = 1.0"
   ]
  },
  {
   "cell_type": "code",
   "execution_count": 101,
   "metadata": {
    "collapsed": false
   },
   "outputs": [
    {
     "data": {
      "text/plain": [
       "3.141592653589793"
      ]
     },
     "execution_count": 101,
     "metadata": {},
     "output_type": "execute_result"
    }
   ],
   "source": [
    "c7.area()"
   ]
  },
  {
   "cell_type": "code",
   "execution_count": 102,
   "metadata": {
    "collapsed": false
   },
   "outputs": [
    {
     "ename": "AttributeError",
     "evalue": "'Circle' object has no attribute '__dict__'",
     "output_type": "error",
     "traceback": [
      "\u001b[1;31m---------------------------------------------------------------------------\u001b[0m",
      "\u001b[1;31mAttributeError\u001b[0m                            Traceback (most recent call last)",
      "\u001b[1;32m<ipython-input-102-8e5900013170>\u001b[0m in \u001b[0;36m<module>\u001b[1;34m()\u001b[0m\n\u001b[1;32m----> 1\u001b[1;33m \u001b[0mc7\u001b[0m\u001b[1;33m.\u001b[0m\u001b[0m__dict__\u001b[0m\u001b[1;33m\u001b[0m\u001b[0m\n\u001b[0m",
      "\u001b[1;31mAttributeError\u001b[0m: 'Circle' object has no attribute '__dict__'"
     ]
    }
   ],
   "source": [
    "c7.__dict__"
   ]
  },
  {
   "cell_type": "markdown",
   "metadata": {},
   "source": [
    "So, we can see the `__dict__` is not created for the instance c7."
   ]
  },
  {
   "cell_type": "code",
   "execution_count": 103,
   "metadata": {
    "collapsed": true
   },
   "outputs": [],
   "source": [
    "class Tire(Circle):\n",
    "    pass"
   ]
  },
  {
   "cell_type": "code",
   "execution_count": 104,
   "metadata": {
    "collapsed": true
   },
   "outputs": [],
   "source": [
    "t = Tire()"
   ]
  },
  {
   "cell_type": "code",
   "execution_count": 105,
   "metadata": {
    "collapsed": false
   },
   "outputs": [
    {
     "data": {
      "text/plain": [
       "{}"
      ]
     },
     "execution_count": 105,
     "metadata": {},
     "output_type": "execute_result"
    }
   ],
   "source": [
    "t.__dict__"
   ]
  },
  {
   "cell_type": "code",
   "execution_count": null,
   "metadata": {
    "collapsed": true
   },
   "outputs": [],
   "source": []
  }
 ],
 "metadata": {
  "anaconda-cloud": {},
  "kernelspec": {
   "display_name": "Python [py35]",
   "language": "python",
   "name": "Python [py35]"
  },
  "language_info": {
   "codemirror_mode": {
    "name": "ipython",
    "version": 3
   },
   "file_extension": ".py",
   "mimetype": "text/x-python",
   "name": "python",
   "nbconvert_exporter": "python",
   "pygments_lexer": "ipython3",
   "version": "3.5.2"
  }
 },
 "nbformat": 4,
 "nbformat_minor": 0
}
